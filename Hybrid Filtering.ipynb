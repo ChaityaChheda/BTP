{
 "cells": [
  {
   "cell_type": "code",
   "execution_count": 1,
   "metadata": {},
   "outputs": [],
   "source": [
    "#Python Imports\n",
    "from sklearn.decomposition import TruncatedSVD\n",
    "from sklearn.feature_extraction.text import TfidfVectorizer\n",
    "from sklearn.feature_extraction.text import HashingVectorizer\n",
    "from sklearn.feature_extraction.text import TfidfTransformer\n",
    "from sklearn.pipeline import make_pipeline\n",
    "from sklearn.preprocessing import Normalizer\n",
    "from sklearn import metrics\n",
    "from sklearn.cluster import KMeans, MiniBatchKMeans\n",
    "import logging\n",
    "from optparse import OptionParser\n",
    "import sys\n",
    "from time import time\n",
    "import numpy as np\n",
    "from sklearn.feature_extraction.text import CountVectorizer\n",
    "import pickle\n",
    "import pandas as pd\n",
    "import re\n",
    "from pandas.io.json import json_normalize\n",
    "import json\n",
    "import pandas as pd\n",
    "import numpy as np\n",
    "\n",
    "from surprise import SVD, accuracy\n",
    "from surprise.model_selection import cross_validate, train_test_split\n",
    "from surprise import Dataset\n",
    "from surprise import Reader\n",
    "from surprise.prediction_algorithms.knns import KNNWithZScore, KNNBaseline\n",
    "from surprise.prediction_algorithms.matrix_factorization import NMF\n",
    "\n",
    "from pandas.io.json import json_normalize\n",
    "from pymongo import MongoClient\n",
    "from collections import defaultdict\n",
    "from sklearn.datasets import fetch_20newsgroups\n",
    "from sklearn.decomposition import TruncatedSVD\n",
    "from sklearn.feature_extraction.text import TfidfVectorizer\n",
    "from sklearn.feature_extraction.text import HashingVectorizer\n",
    "from sklearn.feature_extraction.text import TfidfTransformer\n",
    "from sklearn.pipeline import make_pipeline\n",
    "from sklearn.preprocessing import Normalizer\n",
    "from sklearn.feature_extraction.text import TfidfVectorizer\n",
    "from sklearn import metrics\n",
    "import re\n",
    "from sklearn.cluster import KMeans, MiniBatchKMeans\n",
    "import logging\n",
    "from optparse import OptionParser\n",
    "import sys\n",
    "from time import time\n",
    "from sklearn.decomposition import TruncatedSVD\n",
    "import numpy as np\n",
    "from sklearn.feature_extraction.text import CountVectorizer\n",
    "import pickle\n",
    "import pandas as pd\n",
    "from sklearn.metrics.pairwise import cosine_similarity\n",
    "from sklearn.metrics.pairwise import linear_kernel\n",
    "from ast import literal_eval"
   ]
  },
  {
   "cell_type": "code",
   "execution_count": null,
   "metadata": {},
   "outputs": [],
   "source": []
  },
  {
   "cell_type": "code",
   "execution_count": 11,
   "metadata": {},
   "outputs": [],
   "source": [
    "def convert_ids(ids_in_csv):\n",
    "    return pd.to_numeric(ids_in_csv, errors='coerce').astype('int64')\n",
    "\n",
    "def convert_to_float(ids_in_csv):\n",
    "    return pd.to_numeric(ids_in_csv, errors='coerce').astype('float64')\n",
    "\n",
    "def to_json(csv_entry):\n",
    "    return json.loads(re.sub('\\'', '\"', csv_entry))\n",
    "\n",
    "\n",
    "def get_top_n(predictions, n=200):\n",
    "    '''SUPRISE API\n",
    "    Return the top-N recommendation for each user from a set of predictions.\n",
    "\n",
    "    Args:\n",
    "        predictions(list of Prediction objects): The list of predictions, as\n",
    "            returned by the test method of an algorithm.\n",
    "        n(int): The number of recommendation to output for each user. Default\n",
    "            is 10.\n",
    "\n",
    "    Returns:\n",
    "    A dict where keys are user (raw) ids and values are lists of tuples:\n",
    "        [(raw item id, rating estimation), ...] of size n.\n",
    "    '''\n",
    "\n",
    "    # First map the predictions to each user.\n",
    "    top_n = defaultdict(list)\n",
    "    for uid, iid, true_r, est, _ in predictions:\n",
    "        top_n[uid].append((iid, est))\n",
    "\n",
    "    # Then sort the predictions for each user and retrieve the k highest ones.\n",
    "    for uid, user_ratings in top_n.items():\n",
    "        user_ratings.sort(key=lambda x: x[1], reverse=True)\n",
    "        top_n[uid] = user_ratings[:n]\n",
    "\n",
    "    return top_n\n",
    "\n",
    "def get_movie_name(movie_id):\n",
    "    return ratings_with_movie_names[ratings_with_movie_names.id == movie_id]['title'].iloc[0]\n",
    "\n",
    "\n",
    "def print_user_prediction(userId, predictions_dict, meta_df):\n",
    "    users_viewed_movies = ratings_with_movie_names[ratings_with_movie_names['userId'] == userId][\n",
    "        ['rating', 'original_title']]\n",
    "    #print(f'User {userId} has viewed the following movies:\\n')\n",
    "\n",
    "    for row in users_viewed_movies.itertuples():\n",
    "        rating = row[1]\n",
    "        original_title = row[2]\n",
    "        #print(f'\\t{original_title}, Rating: {rating}')\n",
    "\n",
    "    #print(f'\\nThe following movies are recommended for User {userId}\\n')\n",
    "    recommended_movies = [get_movie_name(mov_id[0], meta_df) for mov_id in predictions_dict[userId]]\n",
    "\n",
    "    #for movie in recommended_movies:\n",
    "        #print(f'\\t{movie}')\n",
    "\n",
    "def get_movie_name(movie_id, movie_meta_df):\n",
    "    return movie_meta_df[movie_meta_df.id == movie_id]['title'].iloc[0]\n",
    "\n",
    "def get_movie_id(title, movie_meta_df):\n",
    "    return movie_meta_df[movie_meta_df.title == title]['id'].iloc[0]\n",
    "\n",
    "\n",
    "def get_all_movies_in_cluster(cluster_number, cluster_dict, meta_df):\n",
    "    movies = cluster_dict[cluster_number]\n",
    "    return [get_movie_name(mov, meta_df) for mov in movies]\n",
    "\n",
    "####\n",
    "\n",
    "# cluster_distribution = [len(movies) for (clust, movies) in movie_summaries_clustered.items()]\n",
    "\n",
    "def get_cluster_number(movie, cluster_zip):\n",
    "    for cluster, movie_id in cluster_zip:\n",
    "\n",
    "        if movie_id == movie:\n",
    "            return cluster\n",
    "\n",
    "    raise Exception('Movie not found in cluster')"
   ]
  },
  {
   "cell_type": "code",
   "execution_count": 12,
   "metadata": {},
   "outputs": [
    {
     "name": "stderr",
     "output_type": "stream",
     "text": [
      "/home/chaitya/.local/lib/python3.5/site-packages/IPython/core/interactiveshell.py:3058: DtypeWarning: Columns (10) have mixed types. Specify dtype option on import or set low_memory=False.\n",
      "  interactivity=interactivity, compiler=compiler, result=result)\n"
     ]
    }
   ],
   "source": [
    "movies_metadata_df1 = pd.read_csv('the-movies-dataset/movies_metadata.csv'\n",
    "                                 , converters={ 'id': lambda x: convert_ids(x)\n",
    "                                               , 'imdb_id': lambda x: convert_ids(x)\n",
    "                                               ,'popularity': lambda x: convert_to_float(x)\n",
    "                                               ,'genres': lambda x: to_json(x)}\n",
    "                                 , usecols=['id', 'original_title'\n",
    "                                                , 'genres' #'homepage'\n",
    "                                                , 'overview', 'popularity', 'poster_path'\n",
    "                                                , 'release_date', 'revenue', 'runtime'\n",
    "                                                , 'spoken_languages', 'title'\n",
    "                                                , 'vote_average', 'vote_count']\n",
    "                                , dtype={'populariy': np.float64}\n",
    "                                , parse_dates=True)\n",
    "\n",
    "\n",
    "movies_lookup_df = pd.read_csv('the-movies-dataset/movies_metadata.csv'\n",
    "                        , converters={'id': lambda x: convert_ids(x), 'imdb_id': lambda x: convert_ids(x)}\n",
    "                       ,usecols=['id', 'title'])\n",
    "\n",
    "#####################################\n",
    "##SVD DATA SET\n",
    "movies_df = pd.read_csv('the-movies-dataset/movies_metadata.csv'\n",
    "                        , converters={'id': lambda x: convert_ids(x), 'imdb_id': lambda x: convert_ids(x)}\n",
    "                       ,usecols=['id', 'original_title', 'belongs_to_collection'\n",
    "                                 , 'budget', 'genres', 'homepage'\n",
    "                                 ,'imdb_id', 'overview', 'popularity', 'poster_path'\n",
    "                                 , 'production_companies','release_date', 'revenue', 'runtime',\n",
    "                                 'spoken_languages', 'status', 'tagline', 'title', 'video',\n",
    "                                 'vote_average', 'vote_count'])\n",
    "#####################################\n",
    "\n",
    "ratings_df = pd.read_csv('the-movies-dataset/ratings_small.csv')\n",
    "\n",
    "\n",
    "\n",
    "content_filter_df = pd.read_pickle('content_filter_df.pkl')\n",
    "content_filter_df = content_filter_df[['id',\n",
    " 'popularity',\n",
    " #'release_date',\n",
    " 'vote_average',\n",
    " 'release_year',\n",
    " 0,1,2,3,4,5, 6, 7, 8,9,10,11,12,13,14,15,16,17,18,19]]\n",
    "content_filter_df = content_filter_df.dropna()\n",
    "\n",
    "idx = pd.Index(content_filter_df['id'])\n",
    "idx\n",
    "content_filter_df.index = idx"
   ]
  },
  {
   "cell_type": "code",
   "execution_count": 13,
   "metadata": {},
   "outputs": [],
   "source": [
    "###May need Fuzzy matching, but for now:\n",
    "movies_df = movies_df[movies_df.spoken_languages == \"\"\"[{'iso_639_1': 'en', 'name': 'English'}]\"\"\"]"
   ]
  },
  {
   "cell_type": "code",
   "execution_count": 14,
   "metadata": {},
   "outputs": [],
   "source": [
    "ratings_with_movie_names = ratings_df.merge(movies_df[['id', 'original_title']], how='left', left_on='movieId', right_on='id')\n",
    "ratings_with_movie_names = ratings_with_movie_names[ratings_with_movie_names.original_title.isnull() == False]"
   ]
  },
  {
   "cell_type": "code",
   "execution_count": 15,
   "metadata": {},
   "outputs": [],
   "source": [
    "reader = Reader(rating_scale=(0, 5))\n",
    "data = Dataset.load_from_df(ratings_with_movie_names[['userId', 'movieId', 'rating']], reader)\n",
    "trainset = data.build_full_trainset()\n",
    "testset = trainset.build_anti_testset()"
   ]
  },
  {
   "cell_type": "markdown",
   "metadata": {},
   "source": [
    "# SVD : Collaborative Filtering"
   ]
  },
  {
   "cell_type": "code",
   "execution_count": 16,
   "metadata": {
    "collapsed": true,
    "jupyter": {
     "outputs_hidden": true
    }
   },
   "outputs": [
    {
     "name": "stdout",
     "output_type": "stream",
     "text": [
      "Processing epoch 0\n",
      "Processing epoch 1\n",
      "Processing epoch 2\n",
      "Processing epoch 3\n",
      "Processing epoch 4\n",
      "Processing epoch 5\n",
      "Processing epoch 6\n",
      "Processing epoch 7\n",
      "Processing epoch 8\n",
      "Processing epoch 9\n",
      "Processing epoch 10\n",
      "Processing epoch 11\n",
      "Processing epoch 12\n",
      "Processing epoch 13\n",
      "Processing epoch 14\n",
      "Processing epoch 15\n",
      "Processing epoch 16\n",
      "Processing epoch 17\n",
      "Processing epoch 18\n",
      "Processing epoch 19\n"
     ]
    },
    {
     "data": {
      "text/plain": [
       "{'fit_time': (1.1008143424987793,\n",
       "  1.3403854370117188,\n",
       "  1.3835294246673584,\n",
       "  1.3081231117248535,\n",
       "  0.9806644916534424),\n",
       " 'test_mae': array([0.68827432, 0.696937  , 0.69575826, 0.6892278 , 0.68536742]),\n",
       " 'test_rmse': array([0.89184134, 0.90071568, 0.90493053, 0.89220854, 0.88670869]),\n",
       " 'test_time': (0.035508155822753906,\n",
       "  0.034493446350097656,\n",
       "  0.03553271293640137,\n",
       "  0.03453516960144043,\n",
       "  0.030032634735107422)}"
      ]
     },
     "execution_count": 16,
     "metadata": {},
     "output_type": "execute_result"
    }
   ],
   "source": [
    "algo = SVD(verbose=True)\n",
    "algo.fit(trainset)\n",
    "\n",
    "cross_validate(algo, data, measures=['RMSE', 'MAE'], cv=5, n_jobs=-1, verbose=False)"
   ]
  },
  {
   "cell_type": "code",
   "execution_count": 17,
   "metadata": {},
   "outputs": [],
   "source": [
    "predictions = algo.test(testset)\n",
    "### Tune this value to get fewer results faster, but less options to choose from\n",
    "top_n = get_top_n(predictions)\n",
    "\n",
    "\n",
    "predicted_movies_by_name = defaultdict(list)\n",
    "\n",
    "### This builds the dictionary of predicted movies for all users\n",
    "for key, value in top_n.items():\n",
    "    predicted_movies_by_name[key] = [get_movie_name(mov_id[0], movies_metadata_df1) for mov_id in value]"
   ]
  },
  {
   "cell_type": "code",
   "execution_count": null,
   "metadata": {},
   "outputs": [],
   "source": []
  },
  {
   "cell_type": "code",
   "execution_count": 9,
   "metadata": {},
   "outputs": [],
   "source": [
    "from collections import namedtuple\n",
    "UserFavoriteRating = namedtuple('UserFavoriteRating', ['title', 'rating'])\n",
    "\n",
    "def users_top_n_movies(n, userId, predictions_dict, meta_df):\n",
    "    users_viewed_movies = ratings_with_movie_names[ratings_with_movie_names['userId'] == userId][['rating', 'original_title']]\n",
    "    \n",
    "    viewed_movies = []\n",
    "\n",
    "    for row in users_viewed_movies.itertuples():\n",
    "        rating = row[1]\n",
    "        original_title = row[2]\n",
    "        film = UserFavoriteRating(original_title, rating)\n",
    "        viewed_movies.append(film)\n",
    "    \n",
    "    sorted(viewed_movies, key=lambda film: film[1])\n",
    "    \n",
    "    return viewed_movies[0:n]"
   ]
  },
  {
   "cell_type": "markdown",
   "metadata": {},
   "source": [
    "# GET A USERS TOP RATED MOVIES"
   ]
  },
  {
   "cell_type": "code",
   "execution_count": 10,
   "metadata": {},
   "outputs": [
    {
     "data": {
      "text/plain": [
       "[UserFavoriteRating(title='The Endless Summer', rating=5.0),\n",
       " UserFavoriteRating(title='Rumble Fish', rating=5.0),\n",
       " UserFavoriteRating(title='A River Runs Through It', rating=4.0),\n",
       " UserFavoriteRating(title='Terminator 3: Rise of the Machines', rating=5.0),\n",
       " UserFavoriteRating(title='The Poseidon Adventure', rating=5.0)]"
      ]
     },
     "execution_count": 10,
     "metadata": {},
     "output_type": "execute_result"
    }
   ],
   "source": [
    "users_top_n_movies(5, 321, predicted_movies_by_name, movies_metadata_df1)"
   ]
  },
  {
   "cell_type": "markdown",
   "metadata": {},
   "source": [
    "# At this point, you should have user personas to get a pool of movies to choose from, not simply pre-made users:"
   ]
  },
  {
   "cell_type": "code",
   "execution_count": 11,
   "metadata": {
    "collapsed": true,
    "jupyter": {
     "outputs_hidden": true
    }
   },
   "outputs": [
    {
     "name": "stdout",
     "output_type": "stream",
     "text": [
      "User 47 has viewed the following movies:\n",
      "\n",
      "\t48 Hrs., Rating: 4.0\n",
      "\tBack to the Future Part II, Rating: 4.0\n",
      "\t20,000 Leagues Under the Sea, Rating: 5.0\n",
      "\tMuriel's Wedding, Rating: 4.0\n",
      "\tHigh Noon, Rating: 4.0\n",
      "\tTerminator 3: Rise of the Machines, Rating: 4.0\n",
      "\tFaster, Pussycat! Kill! Kill!, Rating: 4.0\n",
      "\tSilent Hill, Rating: 4.0\n",
      "\tThe Conversation, Rating: 3.0\n",
      "\tTo Kill a Mockingbird, Rating: 3.0\n",
      "\n",
      "The following movies are recommended for User 47\n",
      "\n",
      "\tSleepless in Seattle\n",
      "\tMurder She Said\n",
      "\tThe Million Dollar Hotel\n",
      "\tGalaxy Quest\n",
      "\tThe Thomas Crown Affair\n",
      "\tNell\n",
      "\tConfession of a Child of the Century\n",
      "\tMen in Black II\n",
      "\tBirdman of Alcatraz\n",
      "\tWhile You Were Sleeping\n",
      "\tShriek If You Know What I Did Last Friday the Thirteenth\n",
      "\tEdward Scissorhands\n",
      "\tThe Thomas Crown Affair\n",
      "\tSpace Jam\n",
      "\tBoogie Nights\n",
      "\tThe Return of the King\n",
      "\tGhost Rider\n",
      "\tFools Rush In\n",
      "\tTotally Blonde\n",
      "\tRumble Fish\n",
      "\tFlags of Our Fathers\n",
      "\tDawn of the Dead\n",
      "\tThe Bank Dick\n",
      "\tBonnie and Clyde\n",
      "\tLicense to Wed\n",
      "\tA River Runs Through It\n",
      "\tHard Target\n",
      "\tStraw Dogs\n",
      "\tThe Wanderers\n",
      "\tDog Day Afternoon\n",
      "\tIrma la Douce\n",
      "\tLonely Hearts\n",
      "\tStomp the Yard\n",
      "\tFrankenstein\n",
      "\tEnd of the World\n",
      "\tThe Island\n",
      "\tBroken Flowers\n",
      "\tThe Good Thief\n",
      "\tCool Hand Luke\n",
      "\tDancer in the Dark\n",
      "\tMeet the Robinsons\n",
      "\tMy Darling Clementine\n",
      "\tMatch Point\n",
      "\tYoung and Innocent\n",
      "\tLaura\n",
      "\tDr. Jekyll and Mr. Hyde\n",
      "\tBeverly Hills Cop III\n",
      "\tStand by Me\n",
      "\tSunshine\n",
      "\tStranger Than Fiction\n",
      "\tEnough\n",
      "\tLeon: The Professional\n",
      "\tThe Rapture\n",
      "\tThe Shipping News\n",
      "\tHorrible Bosses\n",
      "\tLoose Screws\n",
      "\tSuperstar: The Karen Carpenter Story\n",
      "\tMr. Smith Goes to Washington\n",
      "\tLassie Come Home\n",
      "\tBeetlejuice\n",
      "\tReality Bites\n",
      "\tBackdraft\n",
      "\tPoint Break\n",
      "\tWilbur Wants to Kill Himself\n",
      "\tThe Halliday Brand\n",
      "\tThe Endless Summer\n",
      "\tWuthering Heights\n",
      "\tMy Name Is Bruce\n",
      "\tBarton Fink\n",
      "\tThe Howling: New Moon Rising\n",
      "\tComanche Station\n",
      "\tLongitude\n",
      "\tBean\n",
      "\tGremlins 2: The New Batch\n",
      "\tFever Pitch\n",
      "\tKen Park\n",
      "\tBoat\n",
      "\tThe 39 Steps\n",
      "\tIn the Name of the King: A Dungeon Siege Tale\n",
      "\tDances with Wolves\n",
      "\tThe Magnificent Ambersons\n",
      "\tDear Frankie\n",
      "\tNorth by Northwest\n",
      "\tWithin the Woods\n",
      "\tIn Time\n",
      "\tChanging Lanes\n",
      "\tLetter from an Unknown Woman\n",
      "\tFive Bloody Graves\n",
      "\tCheerleaders' Wild Weekend\n",
      "\tThe Butterfly Effect\n",
      "\tThe Out-of-Towners\n",
      "\tArmy of Darkness\n",
      "\tThe Night of the Hunter\n",
      "\tThe Door in the Floor\n",
      "\tThe Mist\n",
      "\tPostal\n",
      "\tOnce in a Lifetime: The Extraordinary Story of the New York Cosmos\n",
      "\tFinding Neverland\n",
      "\tGrizzly Man\n",
      "\tShakespeare in Love\n",
      "\tMurder, My Sweet\n",
      "\tHollywoodland\n",
      "\tStrange Days\n",
      "\tSunset Boulevard\n",
      "\tUrban Explorer\n",
      "\tEscape from New York\n",
      "\tSaw\n",
      "\tVampire's Kiss\n",
      "\tSister Act\n",
      "\tCold Mountain\n",
      "\tThe End of Poverty?\n",
      "\tOne Night at McCool's\n",
      "\tIdle Hands\n",
      "\tLucky You\n",
      "\tIce Age: The Meltdown\n",
      "\tCarriers\n",
      "\tThe Elephant Man\n",
      "\tThe Ewok Adventure\n",
      "\tCloser\n",
      "\tFree Money\n",
      "\tA Christmas Story\n",
      "\tThe Powerpuff Girls Movie\n",
      "\tChildren of the Corn IV: The Gathering\n",
      "\tAnima Mundi\n",
      "\tBeowulf\n",
      "\tKnight Moves\n",
      "\tThe Final Cut\n",
      "\tFar from the Madding Crowd\n",
      "\tBridge to Terabithia\n",
      "\tBrake\n",
      "\tThe Bed-Sitting Room\n",
      "\tBill & Ted's Bogus Journey\n",
      "\tThe Lost Continent\n",
      "\tMission: Impossible II\n",
      "\tStar Wars\n",
      "\tLight of Day\n",
      "\tNow and Forever\n",
      "\tTron\n",
      "\tThe Teacher\n",
      "\tDeath Line\n",
      "\tThe Magdalene Sisters\n",
      "\tThe Thirteenth Floor\n",
      "\tCarry On Screaming\n",
      "\tJinxed!\n",
      "\tThe Holy Modal Rounders: Bound to Lose\n",
      "\tCassandra's Dream\n",
      "\tShall We Dance?\n",
      "\tSouthland Tales\n",
      "\tForces of Nature\n",
      "\tStar Trek II: The Wrath of Khan\n",
      "\tA Brief History of Time\n",
      "\tGood Morning Miss Dove\n",
      "\tSon of Frankenstein\n",
      "\tSweet November\n",
      "\tJacob's Ladder\n",
      "\tThe First Wives Club\n",
      "\tRead It and Weep\n",
      "\tChristmas in Boston\n",
      "\tAway from Her\n",
      "\tGerry\n",
      "\tJudgment Night\n",
      "\tThe Bachelor\n",
      "\tTwin Peaks: Fire Walk with Me\n",
      "\tThe Crowd\n",
      "\tSwept from the Sea\n",
      "\tAnd Then There Were None\n",
      "\tMouseHunt\n",
      "\teXistenZ\n",
      "\tDollman vs. Demonic Toys\n",
      "\tHarry Potter and the Philosopher's Stone\n",
      "\tThe Yes Men\n",
      "\tFrankenstein Created Woman\n",
      "\t'Twas the Night Before Christmas\n",
      "\tGood Neighbor Sam\n",
      "\tBride of Frankenstein\n",
      "\tHomeless to Harvard: The Liz Murray Story\n",
      "\tDonnie Darko\n",
      "\tJohnny Mad Dog\n",
      "\tThe Harrad Experiment\n",
      "\tHairspray\n",
      "\tIn the Mouth of Madness\n",
      "\tParis is Burning\n",
      "\tThe Man Who Knew Too Much\n",
      "\tFailure to Launch\n",
      "\tThe Garden of Eden\n",
      "\tPerformance\n",
      "\tOpen Season\n",
      "\tDreamland\n",
      "\tK-19: The Widowmaker\n",
      "\tThe Pawnshop\n",
      "\tThis Is 40\n",
      "\tTMNT\n",
      "\tThe Hours\n",
      "\t42nd Street\n",
      "\tDread\n",
      "\tDon's Plum\n",
      "\tBeat\n",
      "\tHeart of the Country\n",
      "\tYoung Black Stallion\n",
      "\tLocal Color\n"
     ]
    }
   ],
   "source": [
    "print_user_prediction(47, top_n, movies_metadata_df1)"
   ]
  },
  {
   "cell_type": "code",
   "execution_count": 12,
   "metadata": {},
   "outputs": [],
   "source": [
    "UserFavoriteRating = namedtuple('UserFavoriteRating', ['title', 'rating'])\n",
    "def collab_filter_recommendations(user, top_ns, movie_meta_df):\n",
    "    \n",
    "    predictions = top_ns[user]\n",
    "    \n",
    "    return [UserFavoriteRating(get_movie_name(pred[0], movie_meta_df), pred[1]) for pred in predictions]"
   ]
  },
  {
   "cell_type": "code",
   "execution_count": 13,
   "metadata": {},
   "outputs": [
    {
     "data": {
      "text/plain": [
       "[UserFavoriteRating(title='Sleepless in Seattle', rating=5),\n",
       " UserFavoriteRating(title='Murder She Said', rating=4.799372537101847),\n",
       " UserFavoriteRating(title='The Million Dollar Hotel', rating=4.714216916801487),\n",
       " UserFavoriteRating(title='Galaxy Quest', rating=4.668626119527115),\n",
       " UserFavoriteRating(title='The Thomas Crown Affair', rating=4.667413193529942),\n",
       " UserFavoriteRating(title='Nell', rating=4.581602817724114),\n",
       " UserFavoriteRating(title='Confession of a Child of the Century', rating=4.578217597412764),\n",
       " UserFavoriteRating(title='Men in Black II', rating=4.569532225783706),\n",
       " UserFavoriteRating(title='Birdman of Alcatraz', rating=4.55974725062475),\n",
       " UserFavoriteRating(title='While You Were Sleeping', rating=4.549629449802998),\n",
       " UserFavoriteRating(title='Shriek If You Know What I Did Last Friday the Thirteenth', rating=4.539035153181185),\n",
       " UserFavoriteRating(title='Edward Scissorhands', rating=4.532755623125054),\n",
       " UserFavoriteRating(title='The Thomas Crown Affair', rating=4.5260703198380465),\n",
       " UserFavoriteRating(title='Space Jam', rating=4.516137607190615),\n",
       " UserFavoriteRating(title='Boogie Nights', rating=4.501089180458347),\n",
       " UserFavoriteRating(title='The Return of the King', rating=4.477644342758853),\n",
       " UserFavoriteRating(title='Ghost Rider', rating=4.467113832074664),\n",
       " UserFavoriteRating(title='Fools Rush In', rating=4.466662850115415),\n",
       " UserFavoriteRating(title='Totally Blonde', rating=4.462487167906955),\n",
       " UserFavoriteRating(title='Rumble Fish', rating=4.459684819192009),\n",
       " UserFavoriteRating(title='Flags of Our Fathers', rating=4.456983134441503),\n",
       " UserFavoriteRating(title='Dawn of the Dead', rating=4.453890018365859),\n",
       " UserFavoriteRating(title='The Bank Dick', rating=4.452720898811927),\n",
       " UserFavoriteRating(title='Bonnie and Clyde', rating=4.447411925415458),\n",
       " UserFavoriteRating(title='License to Wed', rating=4.446197398557417),\n",
       " UserFavoriteRating(title='A River Runs Through It', rating=4.432256284781225),\n",
       " UserFavoriteRating(title='Hard Target', rating=4.431886085512844),\n",
       " UserFavoriteRating(title='Straw Dogs', rating=4.426270786746605),\n",
       " UserFavoriteRating(title='The Wanderers', rating=4.422764593753176),\n",
       " UserFavoriteRating(title='Dog Day Afternoon', rating=4.418023900908637),\n",
       " UserFavoriteRating(title='Irma la Douce', rating=4.4160507091055266),\n",
       " UserFavoriteRating(title='Lonely Hearts', rating=4.416018218324272),\n",
       " UserFavoriteRating(title='Stomp the Yard', rating=4.410196119495217),\n",
       " UserFavoriteRating(title='Frankenstein', rating=4.409617085262156),\n",
       " UserFavoriteRating(title='End of the World', rating=4.399700347734675),\n",
       " UserFavoriteRating(title='The Island', rating=4.391738030156342),\n",
       " UserFavoriteRating(title='Broken Flowers', rating=4.377195241211402),\n",
       " UserFavoriteRating(title='The Good Thief', rating=4.370738040703045),\n",
       " UserFavoriteRating(title='Cool Hand Luke', rating=4.370669028557665),\n",
       " UserFavoriteRating(title='Dancer in the Dark', rating=4.3681452853947595),\n",
       " UserFavoriteRating(title='Meet the Robinsons', rating=4.364154175702047),\n",
       " UserFavoriteRating(title='My Darling Clementine', rating=4.362252709729515),\n",
       " UserFavoriteRating(title='Match Point', rating=4.36187131003659),\n",
       " UserFavoriteRating(title='Young and Innocent', rating=4.356912771681682),\n",
       " UserFavoriteRating(title='Laura', rating=4.356905617161366),\n",
       " UserFavoriteRating(title='Dr. Jekyll and Mr. Hyde', rating=4.3557689618388915),\n",
       " UserFavoriteRating(title='Beverly Hills Cop III', rating=4.355608467392567),\n",
       " UserFavoriteRating(title='Stand by Me', rating=4.354875987133588),\n",
       " UserFavoriteRating(title='Sunshine', rating=4.35376845311851),\n",
       " UserFavoriteRating(title='Stranger Than Fiction', rating=4.350800898161969),\n",
       " UserFavoriteRating(title='Enough', rating=4.349170748362368),\n",
       " UserFavoriteRating(title='Leon: The Professional', rating=4.348408390758681),\n",
       " UserFavoriteRating(title='The Rapture', rating=4.346188050331472),\n",
       " UserFavoriteRating(title='The Shipping News', rating=4.345868677550882),\n",
       " UserFavoriteRating(title='Horrible Bosses', rating=4.333084351002563),\n",
       " UserFavoriteRating(title='Loose Screws', rating=4.3323675608942205),\n",
       " UserFavoriteRating(title='Superstar: The Karen Carpenter Story', rating=4.329863978878638),\n",
       " UserFavoriteRating(title='Mr. Smith Goes to Washington', rating=4.322151883765209),\n",
       " UserFavoriteRating(title='Lassie Come Home', rating=4.322136177378581),\n",
       " UserFavoriteRating(title='Beetlejuice', rating=4.312624139252509),\n",
       " UserFavoriteRating(title='Reality Bites', rating=4.308132323067967),\n",
       " UserFavoriteRating(title='Backdraft', rating=4.287597126682284),\n",
       " UserFavoriteRating(title='Point Break', rating=4.2859808972146896),\n",
       " UserFavoriteRating(title='Wilbur Wants to Kill Himself', rating=4.283644445369882),\n",
       " UserFavoriteRating(title='The Halliday Brand', rating=4.281161958766195),\n",
       " UserFavoriteRating(title='The Endless Summer', rating=4.279650314127524),\n",
       " UserFavoriteRating(title='Wuthering Heights', rating=4.276990236641499),\n",
       " UserFavoriteRating(title='My Name Is Bruce', rating=4.275578282896994),\n",
       " UserFavoriteRating(title='Barton Fink', rating=4.274254776237712),\n",
       " UserFavoriteRating(title='The Howling: New Moon Rising', rating=4.273582537248231),\n",
       " UserFavoriteRating(title='Comanche Station', rating=4.273105056332908),\n",
       " UserFavoriteRating(title='Longitude', rating=4.265850051769453),\n",
       " UserFavoriteRating(title='Bean', rating=4.259442619032713),\n",
       " UserFavoriteRating(title='Gremlins 2: The New Batch', rating=4.2540063172480895),\n",
       " UserFavoriteRating(title='Fever Pitch', rating=4.251748709699784),\n",
       " UserFavoriteRating(title='Ken Park', rating=4.250277625594918),\n",
       " UserFavoriteRating(title='Boat', rating=4.249349400135594),\n",
       " UserFavoriteRating(title='The 39 Steps', rating=4.248867607449308),\n",
       " UserFavoriteRating(title='In the Name of the King: A Dungeon Siege Tale', rating=4.24668071781187),\n",
       " UserFavoriteRating(title='Dances with Wolves', rating=4.244740199332425),\n",
       " UserFavoriteRating(title='The Magnificent Ambersons', rating=4.240488043280858),\n",
       " UserFavoriteRating(title='Dear Frankie', rating=4.232236584057348),\n",
       " UserFavoriteRating(title='North by Northwest', rating=4.227218870027913),\n",
       " UserFavoriteRating(title='Within the Woods', rating=4.227084066975079),\n",
       " UserFavoriteRating(title='In Time', rating=4.221565314677693),\n",
       " UserFavoriteRating(title='Changing Lanes', rating=4.220756608250795),\n",
       " UserFavoriteRating(title='Letter from an Unknown Woman', rating=4.217151477026901),\n",
       " UserFavoriteRating(title='Five Bloody Graves', rating=4.213772584993684),\n",
       " UserFavoriteRating(title=\"Cheerleaders' Wild Weekend\", rating=4.213333173395109),\n",
       " UserFavoriteRating(title='The Butterfly Effect', rating=4.209102011907791),\n",
       " UserFavoriteRating(title='The Out-of-Towners', rating=4.207783388006088),\n",
       " UserFavoriteRating(title='Army of Darkness', rating=4.205586097690666),\n",
       " UserFavoriteRating(title='The Night of the Hunter', rating=4.201471611364591),\n",
       " UserFavoriteRating(title='The Door in the Floor', rating=4.199371850545875),\n",
       " UserFavoriteRating(title='The Mist', rating=4.198964766275036),\n",
       " UserFavoriteRating(title='Postal', rating=4.198812923606423),\n",
       " UserFavoriteRating(title='Once in a Lifetime: The Extraordinary Story of the New York Cosmos', rating=4.1956708763073145),\n",
       " UserFavoriteRating(title='Finding Neverland', rating=4.193971072779957),\n",
       " UserFavoriteRating(title='Grizzly Man', rating=4.1938854497583185),\n",
       " UserFavoriteRating(title='Shakespeare in Love', rating=4.193567014579706),\n",
       " UserFavoriteRating(title='Murder, My Sweet', rating=4.192260317660463),\n",
       " UserFavoriteRating(title='Hollywoodland', rating=4.189455532095668),\n",
       " UserFavoriteRating(title='Strange Days', rating=4.188788868807333),\n",
       " UserFavoriteRating(title='Sunset Boulevard', rating=4.186816245073238),\n",
       " UserFavoriteRating(title='Urban Explorer', rating=4.185195659435363),\n",
       " UserFavoriteRating(title='Escape from New York', rating=4.184058956737089),\n",
       " UserFavoriteRating(title='Saw', rating=4.182614869413592),\n",
       " UserFavoriteRating(title=\"Vampire's Kiss\", rating=4.1818159140169895),\n",
       " UserFavoriteRating(title='Sister Act', rating=4.179013228319407),\n",
       " UserFavoriteRating(title='Cold Mountain', rating=4.178306603618657),\n",
       " UserFavoriteRating(title='The End of Poverty?', rating=4.174802717937149),\n",
       " UserFavoriteRating(title=\"One Night at McCool's\", rating=4.17327931222897),\n",
       " UserFavoriteRating(title='Idle Hands', rating=4.172051378483238),\n",
       " UserFavoriteRating(title='Lucky You', rating=4.169676891296195),\n",
       " UserFavoriteRating(title='Ice Age: The Meltdown', rating=4.168819653968349),\n",
       " UserFavoriteRating(title='Carriers', rating=4.165810168873462),\n",
       " UserFavoriteRating(title='The Elephant Man', rating=4.165353485451031),\n",
       " UserFavoriteRating(title='The Ewok Adventure', rating=4.162334189600038),\n",
       " UserFavoriteRating(title='Closer', rating=4.161242550207186),\n",
       " UserFavoriteRating(title='Free Money', rating=4.160629197667581),\n",
       " UserFavoriteRating(title='A Christmas Story', rating=4.158049391779944),\n",
       " UserFavoriteRating(title='The Powerpuff Girls Movie', rating=4.15564196869823),\n",
       " UserFavoriteRating(title='Children of the Corn IV: The Gathering', rating=4.154217784905115),\n",
       " UserFavoriteRating(title='Anima Mundi', rating=4.153624002435398),\n",
       " UserFavoriteRating(title='Beowulf', rating=4.150711386781351),\n",
       " UserFavoriteRating(title='Knight Moves', rating=4.149559055248509),\n",
       " UserFavoriteRating(title='The Final Cut', rating=4.149131999299529),\n",
       " UserFavoriteRating(title='Far from the Madding Crowd', rating=4.147878987178333),\n",
       " UserFavoriteRating(title='Bridge to Terabithia', rating=4.147331906946698),\n",
       " UserFavoriteRating(title='Brake', rating=4.145510842168491),\n",
       " UserFavoriteRating(title='The Bed-Sitting Room', rating=4.143175969602896),\n",
       " UserFavoriteRating(title=\"Bill & Ted's Bogus Journey\", rating=4.142646353072323),\n",
       " UserFavoriteRating(title='The Lost Continent', rating=4.1409723289697515),\n",
       " UserFavoriteRating(title='Mission: Impossible II', rating=4.140725189793769),\n",
       " UserFavoriteRating(title='Star Wars', rating=4.137418221854966),\n",
       " UserFavoriteRating(title='Light of Day', rating=4.136783160804698),\n",
       " UserFavoriteRating(title='Now and Forever', rating=4.136494670657377),\n",
       " UserFavoriteRating(title='Tron', rating=4.132934015357347),\n",
       " UserFavoriteRating(title='The Teacher', rating=4.1327392477163585),\n",
       " UserFavoriteRating(title='Death Line', rating=4.13202796267541),\n",
       " UserFavoriteRating(title='The Magdalene Sisters', rating=4.129589346655311),\n",
       " UserFavoriteRating(title='The Thirteenth Floor', rating=4.129163484170409),\n",
       " UserFavoriteRating(title='Carry On Screaming', rating=4.1264270946309916),\n",
       " UserFavoriteRating(title='Jinxed!', rating=4.126132508341694),\n",
       " UserFavoriteRating(title='The Holy Modal Rounders: Bound to Lose', rating=4.126082784548363),\n",
       " UserFavoriteRating(title=\"Cassandra's Dream\", rating=4.123678354759901),\n",
       " UserFavoriteRating(title='Shall We Dance?', rating=4.122010109672257),\n",
       " UserFavoriteRating(title='Southland Tales', rating=4.121295418983408),\n",
       " UserFavoriteRating(title='Forces of Nature', rating=4.120952483862034),\n",
       " UserFavoriteRating(title='Star Trek II: The Wrath of Khan', rating=4.117395033509192),\n",
       " UserFavoriteRating(title='A Brief History of Time', rating=4.116774684624844),\n",
       " UserFavoriteRating(title='Good Morning Miss Dove', rating=4.115371167086807),\n",
       " UserFavoriteRating(title='Son of Frankenstein', rating=4.11528323548032),\n",
       " UserFavoriteRating(title='Sweet November', rating=4.114084749984741),\n",
       " UserFavoriteRating(title=\"Jacob's Ladder\", rating=4.113186473756877),\n",
       " UserFavoriteRating(title='The First Wives Club', rating=4.110557319235633),\n",
       " UserFavoriteRating(title='Read It and Weep', rating=4.107385399745732),\n",
       " UserFavoriteRating(title='Christmas in Boston', rating=4.106871567613064),\n",
       " UserFavoriteRating(title='Away from Her', rating=4.106181635373385),\n",
       " UserFavoriteRating(title='Gerry', rating=4.104093068918074),\n",
       " UserFavoriteRating(title='Judgment Night', rating=4.103151513845042),\n",
       " UserFavoriteRating(title='The Bachelor', rating=4.102706298907814),\n",
       " UserFavoriteRating(title='Twin Peaks: Fire Walk with Me', rating=4.102019652246616),\n",
       " UserFavoriteRating(title='The Crowd', rating=4.101457637623734),\n",
       " UserFavoriteRating(title='Swept from the Sea', rating=4.101080194230181),\n",
       " UserFavoriteRating(title='And Then There Were None', rating=4.099542517930749),\n",
       " UserFavoriteRating(title='MouseHunt', rating=4.099138530224556),\n",
       " UserFavoriteRating(title='eXistenZ', rating=4.098069799267477),\n",
       " UserFavoriteRating(title='Dollman vs. Demonic Toys', rating=4.0980624953936715),\n",
       " UserFavoriteRating(title=\"Harry Potter and the Philosopher's Stone\", rating=4.097285794888267),\n",
       " UserFavoriteRating(title='The Yes Men', rating=4.0972809558478716),\n",
       " UserFavoriteRating(title='Frankenstein Created Woman', rating=4.096831478666702),\n",
       " UserFavoriteRating(title=\"'Twas the Night Before Christmas\", rating=4.094475540645649),\n",
       " UserFavoriteRating(title='Good Neighbor Sam', rating=4.090959584374485),\n",
       " UserFavoriteRating(title='Bride of Frankenstein', rating=4.090790093467718),\n",
       " UserFavoriteRating(title='Homeless to Harvard: The Liz Murray Story', rating=4.089831217426649),\n",
       " UserFavoriteRating(title='Donnie Darko', rating=4.088403227127062),\n",
       " UserFavoriteRating(title='Johnny Mad Dog', rating=4.08601280757844),\n",
       " UserFavoriteRating(title='The Harrad Experiment', rating=4.083042859650278),\n",
       " UserFavoriteRating(title='Hairspray', rating=4.082034282607736),\n",
       " UserFavoriteRating(title='In the Mouth of Madness', rating=4.080815488734141),\n",
       " UserFavoriteRating(title='Paris is Burning', rating=4.077743458101265),\n",
       " UserFavoriteRating(title='The Man Who Knew Too Much', rating=4.076754894056738),\n",
       " UserFavoriteRating(title='Failure to Launch', rating=4.076743188493603),\n",
       " UserFavoriteRating(title='The Garden of Eden', rating=4.075892050016628),\n",
       " UserFavoriteRating(title='Performance', rating=4.074859065446824),\n",
       " UserFavoriteRating(title='Open Season', rating=4.074287070544958),\n",
       " UserFavoriteRating(title='Dreamland', rating=4.073434065907526),\n",
       " UserFavoriteRating(title='K-19: The Widowmaker', rating=4.07260698356355),\n",
       " UserFavoriteRating(title='The Pawnshop', rating=4.071954204564063),\n",
       " UserFavoriteRating(title='This Is 40', rating=4.071886693615113),\n",
       " UserFavoriteRating(title='TMNT', rating=4.070443411478879),\n",
       " UserFavoriteRating(title='The Hours', rating=4.0703773248167066),\n",
       " UserFavoriteRating(title='42nd Street', rating=4.069000597892453),\n",
       " UserFavoriteRating(title='Dread', rating=4.067832916183329),\n",
       " UserFavoriteRating(title=\"Don's Plum\", rating=4.067607389438974),\n",
       " UserFavoriteRating(title='Beat', rating=4.067028313459299),\n",
       " UserFavoriteRating(title='Heart of the Country', rating=4.066382644328748),\n",
       " UserFavoriteRating(title='Young Black Stallion', rating=4.0658313029782525),\n",
       " UserFavoriteRating(title='Local Color', rating=4.06415736513412)]"
      ]
     },
     "execution_count": 13,
     "metadata": {},
     "output_type": "execute_result"
    }
   ],
   "source": [
    "collab_filter_recommendations(47, top_n, movies_metadata_df1)"
   ]
  },
  {
   "cell_type": "code",
   "execution_count": null,
   "metadata": {},
   "outputs": [],
   "source": []
  },
  {
   "cell_type": "markdown",
   "metadata": {},
   "source": [
    "# CONTENT FILTERING"
   ]
  },
  {
   "cell_type": "code",
   "execution_count": 1,
   "metadata": {},
   "outputs": [
    {
     "ename": "NameError",
     "evalue": "name 'pd' is not defined",
     "output_type": "error",
     "traceback": [
      "\u001b[0;31m---------------------------------------------------------------------------\u001b[0m",
      "\u001b[0;31mNameError\u001b[0m                                 Traceback (most recent call last)",
      "\u001b[0;32m<ipython-input-1-97b61fc6840d>\u001b[0m in \u001b[0;36m<module>\u001b[0;34m\u001b[0m\n\u001b[0;32m----> 1\u001b[0;31m movies_metadata_df = pd.read_csv('the-movies-dataset/movies_metadata.csv'\n\u001b[0m\u001b[1;32m      2\u001b[0m                                  , converters={ 'id': lambda x: convert_ids(x)\n\u001b[1;32m      3\u001b[0m                                                \u001b[0;34m,\u001b[0m \u001b[0;34m'imdb_id'\u001b[0m\u001b[0;34m:\u001b[0m \u001b[0;32mlambda\u001b[0m \u001b[0mx\u001b[0m\u001b[0;34m:\u001b[0m \u001b[0mconvert_ids\u001b[0m\u001b[0;34m(\u001b[0m\u001b[0mx\u001b[0m\u001b[0;34m)\u001b[0m\u001b[0;34m\u001b[0m\u001b[0m\n\u001b[1;32m      4\u001b[0m                                                \u001b[0;34m,\u001b[0m\u001b[0;34m'popularity'\u001b[0m\u001b[0;34m:\u001b[0m \u001b[0;32mlambda\u001b[0m \u001b[0mx\u001b[0m\u001b[0;34m:\u001b[0m \u001b[0mconvert_to_float\u001b[0m\u001b[0;34m(\u001b[0m\u001b[0mx\u001b[0m\u001b[0;34m)\u001b[0m\u001b[0;34m\u001b[0m\u001b[0m\n\u001b[1;32m      5\u001b[0m                                                ,'genres': lambda x: to_json(x)}\n",
      "\u001b[0;31mNameError\u001b[0m: name 'pd' is not defined"
     ]
    }
   ],
   "source": [
    "movies_metadata_df = pd.read_csv('the-movies-dataset/movies_metadata.csv'\n",
    "                                 , converters={ 'id': lambda x: convert_ids(x)\n",
    "                                               , 'imdb_id': lambda x: convert_ids(x)\n",
    "                                               ,'popularity': lambda x: convert_to_float(x)\n",
    "                                               ,'genres': lambda x: to_json(x)}\n",
    "                                 , usecols=['id', 'original_title'\n",
    "                                                , 'genres' #'homepage'\n",
    "                                                , 'overview', 'popularity', 'poster_path'\n",
    "                                                , 'release_date', 'revenue', 'runtime'\n",
    "                                                , 'spoken_languages', 'title'\n",
    "                                                , 'vote_average', 'vote_count']\n",
    "                                , dtype={'populariy': np.float64}\n",
    "                                , parse_dates=True)\n",
    "movies_metadata_df = movies_metadata_df.drop_duplicates(subset=['id'])"
   ]
  },
  {
   "cell_type": "code",
   "execution_count": 15,
   "metadata": {},
   "outputs": [],
   "source": [
    "def get_recommendations(title, tfidf_matrix):\n",
    "    # Get the index of the movie that matches the title\n",
    "    idx = movies_df[title]\n",
    "    cosine_sim = linear_kernel(tfidf_matrix[idx], tfidf_matrix)\n",
    "    # Get the pairwsie similarity scores of all movies with that movie\n",
    "    sim_scores = list(enumerate(cosine_sim[0]))\n",
    "    \n",
    "    pickle.dump(tfidf_matrix ,open(\"feature.pkl\",\"wb\"))\n",
    "\n",
    "    # Sort the movies based on the similarity scores\n",
    "    sim_scores = sorted(sim_scores, key=lambda x: x[1], reverse=True)\n",
    "\n",
    "    # Get the scores of the 10 most similar movies\n",
    "    sim_scores = sim_scores[0:21]\n",
    "\n",
    "    # Get the movie indices\n",
    "    movie_indices = [i[0] for i in sim_scores]\n",
    "\n",
    "    # Return the top 10 most similar movies\n",
    "    #print(idx, title , movies_metadata_df['title'].iloc[idx],movies_metadata_df['genres'].iloc[idx])\n",
    "    return movies_metadata_df['title'].iloc[movie_indices]"
   ]
  },
  {
   "cell_type": "code",
   "execution_count": 16,
   "metadata": {},
   "outputs": [
    {
     "data": {
      "text/plain": [
       "(45434, 13)"
      ]
     },
     "execution_count": 16,
     "metadata": {},
     "output_type": "execute_result"
    }
   ],
   "source": [
    "movies_metadata_df.shape"
   ]
  },
  {
   "cell_type": "code",
   "execution_count": 17,
   "metadata": {},
   "outputs": [],
   "source": [
    "# Load keywords and credits\n",
    "credits = pd.read_csv('the-movies-dataset/credits.csv')\n",
    "keywords = pd.read_csv('the-movies-dataset/keywords.csv')\n",
    "\n",
    "credits = credits.drop_duplicates(subset=['id'])\n",
    "keywords = keywords.drop_duplicates(subset=['id'])\n",
    "\n",
    "# Convert IDs to int. Required for merging\n",
    "keywords['id'] = keywords['id'].astype('int')\n",
    "credits['id'] = credits['id'].astype('int')\n",
    "movies_metadata_df['id'] = movies_metadata_df['id'].astype('int')\n",
    "\n",
    "# Merge keywords and credits into your main metadata dataframe\n",
    "movies_metadata_df = credits.merge(movies_metadata_df, on='id')\n",
    "movies_metadata_df = movies_metadata_df.merge(keywords, on='id')\n"
   ]
  },
  {
   "cell_type": "code",
   "execution_count": 18,
   "metadata": {},
   "outputs": [],
   "source": [
    "movies_df = pd.Series(movies_metadata_df.index, index=movies_metadata_df['title']).drop_duplicates()"
   ]
  },
  {
   "cell_type": "code",
   "execution_count": 19,
   "metadata": {
    "collapsed": true,
    "jupyter": {
     "outputs_hidden": true
    }
   },
   "outputs": [
    {
     "ename": "ValueError",
     "evalue": "malformed node or string: [{'id': 16, 'name': 'Animation'}, {'id': 35, 'name': 'Comedy'}, {'id': 10751, 'name': 'Family'}]",
     "output_type": "error",
     "traceback": [
      "\u001b[0;31m---------------------------------------------------------------------------\u001b[0m",
      "\u001b[0;31mValueError\u001b[0m                                Traceback (most recent call last)",
      "\u001b[0;32m<ipython-input-19-fdd9d330ff45>\u001b[0m in \u001b[0;36m<module>\u001b[0;34m\u001b[0m\n\u001b[1;32m      1\u001b[0m \u001b[0mfeatures\u001b[0m \u001b[0;34m=\u001b[0m \u001b[0;34m[\u001b[0m\u001b[0;34m'cast'\u001b[0m\u001b[0;34m,\u001b[0m \u001b[0;34m'crew'\u001b[0m\u001b[0;34m,\u001b[0m \u001b[0;34m'keywords'\u001b[0m\u001b[0;34m,\u001b[0m \u001b[0;34m'genres'\u001b[0m\u001b[0;34m]\u001b[0m\u001b[0;34m\u001b[0m\u001b[0;34m\u001b[0m\u001b[0m\n\u001b[1;32m      2\u001b[0m \u001b[0;32mfor\u001b[0m \u001b[0mfeature\u001b[0m \u001b[0;32min\u001b[0m \u001b[0mfeatures\u001b[0m\u001b[0;34m:\u001b[0m\u001b[0;34m\u001b[0m\u001b[0;34m\u001b[0m\u001b[0m\n\u001b[0;32m----> 3\u001b[0;31m     \u001b[0mmovies_metadata_df\u001b[0m\u001b[0;34m[\u001b[0m\u001b[0mfeature\u001b[0m\u001b[0;34m]\u001b[0m \u001b[0;34m=\u001b[0m \u001b[0mmovies_metadata_df\u001b[0m\u001b[0;34m[\u001b[0m\u001b[0mfeature\u001b[0m\u001b[0;34m]\u001b[0m\u001b[0;34m.\u001b[0m\u001b[0mapply\u001b[0m\u001b[0;34m(\u001b[0m\u001b[0mliteral_eval\u001b[0m\u001b[0;34m)\u001b[0m\u001b[0;34m\u001b[0m\u001b[0;34m\u001b[0m\u001b[0m\n\u001b[0m",
      "\u001b[0;32m/usr/local/lib/python3.7/site-packages/pandas/core/series.py\u001b[0m in \u001b[0;36mapply\u001b[0;34m(self, func, convert_dtype, args, **kwds)\u001b[0m\n\u001b[1;32m   3192\u001b[0m             \u001b[0;32melse\u001b[0m\u001b[0;34m:\u001b[0m\u001b[0;34m\u001b[0m\u001b[0;34m\u001b[0m\u001b[0m\n\u001b[1;32m   3193\u001b[0m                 \u001b[0mvalues\u001b[0m \u001b[0;34m=\u001b[0m \u001b[0mself\u001b[0m\u001b[0;34m.\u001b[0m\u001b[0mastype\u001b[0m\u001b[0;34m(\u001b[0m\u001b[0mobject\u001b[0m\u001b[0;34m)\u001b[0m\u001b[0;34m.\u001b[0m\u001b[0mvalues\u001b[0m\u001b[0;34m\u001b[0m\u001b[0;34m\u001b[0m\u001b[0m\n\u001b[0;32m-> 3194\u001b[0;31m                 \u001b[0mmapped\u001b[0m \u001b[0;34m=\u001b[0m \u001b[0mlib\u001b[0m\u001b[0;34m.\u001b[0m\u001b[0mmap_infer\u001b[0m\u001b[0;34m(\u001b[0m\u001b[0mvalues\u001b[0m\u001b[0;34m,\u001b[0m \u001b[0mf\u001b[0m\u001b[0;34m,\u001b[0m \u001b[0mconvert\u001b[0m\u001b[0;34m=\u001b[0m\u001b[0mconvert_dtype\u001b[0m\u001b[0;34m)\u001b[0m\u001b[0;34m\u001b[0m\u001b[0;34m\u001b[0m\u001b[0m\n\u001b[0m\u001b[1;32m   3195\u001b[0m \u001b[0;34m\u001b[0m\u001b[0m\n\u001b[1;32m   3196\u001b[0m         \u001b[0;32mif\u001b[0m \u001b[0mlen\u001b[0m\u001b[0;34m(\u001b[0m\u001b[0mmapped\u001b[0m\u001b[0;34m)\u001b[0m \u001b[0;32mand\u001b[0m \u001b[0misinstance\u001b[0m\u001b[0;34m(\u001b[0m\u001b[0mmapped\u001b[0m\u001b[0;34m[\u001b[0m\u001b[0;36m0\u001b[0m\u001b[0;34m]\u001b[0m\u001b[0;34m,\u001b[0m \u001b[0mSeries\u001b[0m\u001b[0;34m)\u001b[0m\u001b[0;34m:\u001b[0m\u001b[0;34m\u001b[0m\u001b[0;34m\u001b[0m\u001b[0m\n",
      "\u001b[0;32mpandas/_libs/src/inference.pyx\u001b[0m in \u001b[0;36mpandas._libs.lib.map_infer\u001b[0;34m()\u001b[0m\n",
      "\u001b[0;32m/usr/local/Cellar/python/3.7.4_1/Frameworks/Python.framework/Versions/3.7/lib/python3.7/ast.py\u001b[0m in \u001b[0;36mliteral_eval\u001b[0;34m(node_or_string)\u001b[0m\n\u001b[1;32m     89\u001b[0m                     \u001b[0;32mreturn\u001b[0m \u001b[0mleft\u001b[0m \u001b[0;34m-\u001b[0m \u001b[0mright\u001b[0m\u001b[0;34m\u001b[0m\u001b[0;34m\u001b[0m\u001b[0m\n\u001b[1;32m     90\u001b[0m         \u001b[0;32mreturn\u001b[0m \u001b[0m_convert_signed_num\u001b[0m\u001b[0;34m(\u001b[0m\u001b[0mnode\u001b[0m\u001b[0;34m)\u001b[0m\u001b[0;34m\u001b[0m\u001b[0;34m\u001b[0m\u001b[0m\n\u001b[0;32m---> 91\u001b[0;31m     \u001b[0;32mreturn\u001b[0m \u001b[0m_convert\u001b[0m\u001b[0;34m(\u001b[0m\u001b[0mnode_or_string\u001b[0m\u001b[0;34m)\u001b[0m\u001b[0;34m\u001b[0m\u001b[0;34m\u001b[0m\u001b[0m\n\u001b[0m\u001b[1;32m     92\u001b[0m \u001b[0;34m\u001b[0m\u001b[0m\n\u001b[1;32m     93\u001b[0m \u001b[0;34m\u001b[0m\u001b[0m\n",
      "\u001b[0;32m/usr/local/Cellar/python/3.7.4_1/Frameworks/Python.framework/Versions/3.7/lib/python3.7/ast.py\u001b[0m in \u001b[0;36m_convert\u001b[0;34m(node)\u001b[0m\n\u001b[1;32m     88\u001b[0m                 \u001b[0;32melse\u001b[0m\u001b[0;34m:\u001b[0m\u001b[0;34m\u001b[0m\u001b[0;34m\u001b[0m\u001b[0m\n\u001b[1;32m     89\u001b[0m                     \u001b[0;32mreturn\u001b[0m \u001b[0mleft\u001b[0m \u001b[0;34m-\u001b[0m \u001b[0mright\u001b[0m\u001b[0;34m\u001b[0m\u001b[0;34m\u001b[0m\u001b[0m\n\u001b[0;32m---> 90\u001b[0;31m         \u001b[0;32mreturn\u001b[0m \u001b[0m_convert_signed_num\u001b[0m\u001b[0;34m(\u001b[0m\u001b[0mnode\u001b[0m\u001b[0;34m)\u001b[0m\u001b[0;34m\u001b[0m\u001b[0;34m\u001b[0m\u001b[0m\n\u001b[0m\u001b[1;32m     91\u001b[0m     \u001b[0;32mreturn\u001b[0m \u001b[0m_convert\u001b[0m\u001b[0;34m(\u001b[0m\u001b[0mnode_or_string\u001b[0m\u001b[0;34m)\u001b[0m\u001b[0;34m\u001b[0m\u001b[0;34m\u001b[0m\u001b[0m\n\u001b[1;32m     92\u001b[0m \u001b[0;34m\u001b[0m\u001b[0m\n",
      "\u001b[0;32m/usr/local/Cellar/python/3.7.4_1/Frameworks/Python.framework/Versions/3.7/lib/python3.7/ast.py\u001b[0m in \u001b[0;36m_convert_signed_num\u001b[0;34m(node)\u001b[0m\n\u001b[1;32m     61\u001b[0m             \u001b[0;32melse\u001b[0m\u001b[0;34m:\u001b[0m\u001b[0;34m\u001b[0m\u001b[0;34m\u001b[0m\u001b[0m\n\u001b[1;32m     62\u001b[0m                 \u001b[0;32mreturn\u001b[0m \u001b[0;34m-\u001b[0m \u001b[0moperand\u001b[0m\u001b[0;34m\u001b[0m\u001b[0;34m\u001b[0m\u001b[0m\n\u001b[0;32m---> 63\u001b[0;31m         \u001b[0;32mreturn\u001b[0m \u001b[0m_convert_num\u001b[0m\u001b[0;34m(\u001b[0m\u001b[0mnode\u001b[0m\u001b[0;34m)\u001b[0m\u001b[0;34m\u001b[0m\u001b[0;34m\u001b[0m\u001b[0m\n\u001b[0m\u001b[1;32m     64\u001b[0m     \u001b[0;32mdef\u001b[0m \u001b[0m_convert\u001b[0m\u001b[0;34m(\u001b[0m\u001b[0mnode\u001b[0m\u001b[0;34m)\u001b[0m\u001b[0;34m:\u001b[0m\u001b[0;34m\u001b[0m\u001b[0;34m\u001b[0m\u001b[0m\n\u001b[1;32m     65\u001b[0m         \u001b[0;32mif\u001b[0m \u001b[0misinstance\u001b[0m\u001b[0;34m(\u001b[0m\u001b[0mnode\u001b[0m\u001b[0;34m,\u001b[0m \u001b[0mConstant\u001b[0m\u001b[0;34m)\u001b[0m\u001b[0;34m:\u001b[0m\u001b[0;34m\u001b[0m\u001b[0;34m\u001b[0m\u001b[0m\n",
      "\u001b[0;32m/usr/local/Cellar/python/3.7.4_1/Frameworks/Python.framework/Versions/3.7/lib/python3.7/ast.py\u001b[0m in \u001b[0;36m_convert_num\u001b[0;34m(node)\u001b[0m\n\u001b[1;32m     53\u001b[0m         \u001b[0;32melif\u001b[0m \u001b[0misinstance\u001b[0m\u001b[0;34m(\u001b[0m\u001b[0mnode\u001b[0m\u001b[0;34m,\u001b[0m \u001b[0mNum\u001b[0m\u001b[0;34m)\u001b[0m\u001b[0;34m:\u001b[0m\u001b[0;34m\u001b[0m\u001b[0;34m\u001b[0m\u001b[0m\n\u001b[1;32m     54\u001b[0m             \u001b[0;32mreturn\u001b[0m \u001b[0mnode\u001b[0m\u001b[0;34m.\u001b[0m\u001b[0mn\u001b[0m\u001b[0;34m\u001b[0m\u001b[0;34m\u001b[0m\u001b[0m\n\u001b[0;32m---> 55\u001b[0;31m         \u001b[0;32mraise\u001b[0m \u001b[0mValueError\u001b[0m\u001b[0;34m(\u001b[0m\u001b[0;34m'malformed node or string: '\u001b[0m \u001b[0;34m+\u001b[0m \u001b[0mrepr\u001b[0m\u001b[0;34m(\u001b[0m\u001b[0mnode\u001b[0m\u001b[0;34m)\u001b[0m\u001b[0;34m)\u001b[0m\u001b[0;34m\u001b[0m\u001b[0;34m\u001b[0m\u001b[0m\n\u001b[0m\u001b[1;32m     56\u001b[0m     \u001b[0;32mdef\u001b[0m \u001b[0m_convert_signed_num\u001b[0m\u001b[0;34m(\u001b[0m\u001b[0mnode\u001b[0m\u001b[0;34m)\u001b[0m\u001b[0;34m:\u001b[0m\u001b[0;34m\u001b[0m\u001b[0;34m\u001b[0m\u001b[0m\n\u001b[1;32m     57\u001b[0m         \u001b[0;32mif\u001b[0m \u001b[0misinstance\u001b[0m\u001b[0;34m(\u001b[0m\u001b[0mnode\u001b[0m\u001b[0;34m,\u001b[0m \u001b[0mUnaryOp\u001b[0m\u001b[0;34m)\u001b[0m \u001b[0;32mand\u001b[0m \u001b[0misinstance\u001b[0m\u001b[0;34m(\u001b[0m\u001b[0mnode\u001b[0m\u001b[0;34m.\u001b[0m\u001b[0mop\u001b[0m\u001b[0;34m,\u001b[0m \u001b[0;34m(\u001b[0m\u001b[0mUAdd\u001b[0m\u001b[0;34m,\u001b[0m \u001b[0mUSub\u001b[0m\u001b[0;34m)\u001b[0m\u001b[0;34m)\u001b[0m\u001b[0;34m:\u001b[0m\u001b[0;34m\u001b[0m\u001b[0;34m\u001b[0m\u001b[0m\n",
      "\u001b[0;31mValueError\u001b[0m: malformed node or string: [{'id': 16, 'name': 'Animation'}, {'id': 35, 'name': 'Comedy'}, {'id': 10751, 'name': 'Family'}]"
     ]
    }
   ],
   "source": [
    "features = ['cast', 'crew', 'keywords', 'genres']\n",
    "for feature in features:\n",
    "    movies_metadata_df[feature] = movies_metadata_df[feature].apply(literal_eval)"
   ]
  },
  {
   "cell_type": "code",
   "execution_count": 20,
   "metadata": {},
   "outputs": [],
   "source": [
    "def get_director(x):\n",
    "    for i in x:\n",
    "        if i['job'] == 'Director':\n",
    "            return i['name']\n",
    "    return np.nan\n",
    "\n",
    "# Returns the list top 3 elements or entire list; whichever is more.\n",
    "def get_list(x):\n",
    "    if isinstance(x, list):\n",
    "        names = [i['name'] for i in x]\n",
    "        #Check if more than 3 elements exist. If yes, return only first three. If no, return entire list.\n",
    "        if len(names) > 3:\n",
    "            names = names[:3]\n",
    "        return names\n",
    "\n",
    "    #Return empty list in case of missing/malformed data\n",
    "    return []\n",
    "\n",
    "def clean_data(x):\n",
    "    if isinstance(x, list):\n",
    "        return [str.lower(i.replace(\" \", \"\")) for i in x]\n",
    "    else:\n",
    "        #Check if director exists. If not, return empty string\n",
    "        if isinstance(x, str):\n",
    "            return str.lower(x.replace(\" \", \"\"))\n",
    "        else:\n",
    "            return ''\n",
    "        \n",
    "def create_soup(x):\n",
    "    return ' '.join(x['keywords']) + ' ' + ' '.join(x['cast']) + ' ' + x['director'] + ' ' + ' '.join(x['genres'])"
   ]
  },
  {
   "cell_type": "code",
   "execution_count": 21,
   "metadata": {},
   "outputs": [],
   "source": [
    "# Define new director, cast, genres and keywords features that are in a suitable form.\n",
    "movies_metadata_df['director'] = movies_metadata_df['crew'].apply(get_director)\n",
    "\n",
    "features = ['cast', 'keywords', 'genres']\n",
    "for feature in features:\n",
    "    movies_metadata_df[feature] = movies_metadata_df[feature].apply(get_list)"
   ]
  },
  {
   "cell_type": "code",
   "execution_count": 22,
   "metadata": {},
   "outputs": [
    {
     "data": {
      "text/plain": [
       "array([[10.,  1.,  1., ...,  0.,  0.,  0.]])"
      ]
     },
     "execution_count": 22,
     "metadata": {},
     "output_type": "execute_result"
    }
   ],
   "source": [
    "# Apply clean_data function to your features.\n",
    "features = ['cast', 'keywords', 'director', 'genres']\n",
    "\n",
    "for feature in features:\n",
    "    movies_metadata_df[feature] = movies_metadata_df[feature].apply(clean_data)\n",
    "\n",
    "# Create a new soup feature\n",
    "movies_metadata_df['soup'] = movies_metadata_df.apply(create_soup, axis=1)\n",
    "\n",
    "count = CountVectorizer(stop_words='english')\n",
    "count_matrix = count.fit_transform(movies_metadata_df['soup'])\n",
    "#count_matrix\n",
    "cosine_sim = linear_kernel(count_matrix[0], count_matrix)\n",
    "cosine_sim"
   ]
  },
  {
   "cell_type": "code",
   "execution_count": 23,
   "metadata": {},
   "outputs": [
    {
     "name": "stdout",
     "output_type": "stream",
     "text": [
      "0                                         Toy Story\n",
      "2996                                    Toy Story 2\n",
      "15342                                   Toy Story 3\n",
      "27373                                         Anina\n",
      "21914                          Toy Story of Terror!\n",
      "25780                               Partysaurus Rex\n",
      "25782                    Toy Story That Time Forgot\n",
      "3308                              Creature Comforts\n",
      "11111                                 Monster House\n",
      "11578                     The Ugly Duckling and Me!\n",
      "13505    Kung Fu Panda: Secrets of the Furious Five\n",
      "17353                                        Cars 2\n",
      "24903                            Jetsons: The Movie\n",
      "25446                   Scooby-Doo! Abracadabra-Doo\n",
      "34406                 Jis Desh Mein Ganga Rehta Hai\n",
      "350                                 The Flintstones\n",
      "369                                     Ri¢hie Ri¢h\n",
      "405                            Addams Family Values\n",
      "581                                         Aladdin\n",
      "608                                  The Aristocats\n",
      "695                                Oliver & Company\n",
      "Name: title, dtype: object\n",
      "User 47 has viewed the following movies:\n",
      "\n",
      "\t48 Hrs., Rating: 4.0\n",
      "\tBack to the Future Part II, Rating: 4.0\n",
      "\t20,000 Leagues Under the Sea, Rating: 5.0\n",
      "\tMuriel's Wedding, Rating: 4.0\n",
      "\tHigh Noon, Rating: 4.0\n",
      "\tTerminator 3: Rise of the Machines, Rating: 4.0\n",
      "\tFaster, Pussycat! Kill! Kill!, Rating: 4.0\n",
      "\tSilent Hill, Rating: 4.0\n",
      "\tThe Conversation, Rating: 3.0\n",
      "\tTo Kill a Mockingbird, Rating: 3.0\n",
      "\n",
      "The following movies are recommended for User 47\n",
      "\n",
      "\tSleepless in Seattle\n",
      "\tMurder She Said\n",
      "\tThe Million Dollar Hotel\n",
      "\tGalaxy Quest\n",
      "\tThe Thomas Crown Affair\n",
      "\tNell\n",
      "\tConfession of a Child of the Century\n",
      "\tMen in Black II\n",
      "\tBirdman of Alcatraz\n",
      "\tWhile You Were Sleeping\n",
      "\tShriek If You Know What I Did Last Friday the Thirteenth\n",
      "\tEdward Scissorhands\n",
      "\tThe Thomas Crown Affair\n",
      "\tSpace Jam\n",
      "\tBoogie Nights\n",
      "\tThe Return of the King\n",
      "\tGhost Rider\n",
      "\tFools Rush In\n",
      "\tTotally Blonde\n",
      "\tRumble Fish\n",
      "\tFlags of Our Fathers\n",
      "\tDawn of the Dead\n",
      "\tThe Bank Dick\n",
      "\tBonnie and Clyde\n",
      "\tLicense to Wed\n",
      "\tA River Runs Through It\n",
      "\tHard Target\n",
      "\tStraw Dogs\n",
      "\tThe Wanderers\n",
      "\tDog Day Afternoon\n",
      "\tIrma la Douce\n",
      "\tLonely Hearts\n",
      "\tStomp the Yard\n",
      "\tFrankenstein\n",
      "\tEnd of the World\n",
      "\tThe Island\n",
      "\tBroken Flowers\n",
      "\tThe Good Thief\n",
      "\tCool Hand Luke\n",
      "\tDancer in the Dark\n",
      "\tMeet the Robinsons\n",
      "\tMy Darling Clementine\n",
      "\tMatch Point\n",
      "\tYoung and Innocent\n",
      "\tLaura\n",
      "\tDr. Jekyll and Mr. Hyde\n",
      "\tBeverly Hills Cop III\n",
      "\tStand by Me\n",
      "\tSunshine\n",
      "\tStranger Than Fiction\n",
      "\tEnough\n",
      "\tLeon: The Professional\n",
      "\tThe Rapture\n",
      "\tThe Shipping News\n",
      "\tHorrible Bosses\n",
      "\tLoose Screws\n",
      "\tSuperstar: The Karen Carpenter Story\n",
      "\tMr. Smith Goes to Washington\n",
      "\tLassie Come Home\n",
      "\tBeetlejuice\n",
      "\tReality Bites\n",
      "\tBackdraft\n",
      "\tPoint Break\n",
      "\tWilbur Wants to Kill Himself\n",
      "\tThe Halliday Brand\n",
      "\tThe Endless Summer\n",
      "\tWuthering Heights\n",
      "\tMy Name Is Bruce\n",
      "\tBarton Fink\n",
      "\tThe Howling: New Moon Rising\n",
      "\tComanche Station\n",
      "\tLongitude\n",
      "\tBean\n",
      "\tGremlins 2: The New Batch\n",
      "\tFever Pitch\n",
      "\tKen Park\n",
      "\tBoat\n",
      "\tThe 39 Steps\n",
      "\tIn the Name of the King: A Dungeon Siege Tale\n",
      "\tDances with Wolves\n",
      "\tThe Magnificent Ambersons\n",
      "\tDear Frankie\n",
      "\tNorth by Northwest\n",
      "\tWithin the Woods\n",
      "\tIn Time\n",
      "\tChanging Lanes\n",
      "\tLetter from an Unknown Woman\n",
      "\tFive Bloody Graves\n",
      "\tCheerleaders' Wild Weekend\n",
      "\tThe Butterfly Effect\n",
      "\tThe Out-of-Towners\n",
      "\tArmy of Darkness\n",
      "\tThe Night of the Hunter\n",
      "\tThe Door in the Floor\n",
      "\tThe Mist\n",
      "\tPostal\n",
      "\tOnce in a Lifetime: The Extraordinary Story of the New York Cosmos\n",
      "\tFinding Neverland\n",
      "\tGrizzly Man\n",
      "\tShakespeare in Love\n",
      "\tMurder, My Sweet\n",
      "\tHollywoodland\n",
      "\tStrange Days\n",
      "\tSunset Boulevard\n",
      "\tUrban Explorer\n",
      "\tEscape from New York\n",
      "\tSaw\n",
      "\tVampire's Kiss\n",
      "\tSister Act\n",
      "\tCold Mountain\n",
      "\tThe End of Poverty?\n",
      "\tOne Night at McCool's\n",
      "\tIdle Hands\n",
      "\tLucky You\n",
      "\tIce Age: The Meltdown\n",
      "\tCarriers\n",
      "\tThe Elephant Man\n",
      "\tThe Ewok Adventure\n",
      "\tCloser\n",
      "\tFree Money\n",
      "\tA Christmas Story\n",
      "\tThe Powerpuff Girls Movie\n",
      "\tChildren of the Corn IV: The Gathering\n",
      "\tAnima Mundi\n",
      "\tBeowulf\n",
      "\tKnight Moves\n",
      "\tThe Final Cut\n",
      "\tFar from the Madding Crowd\n",
      "\tBridge to Terabithia\n",
      "\tBrake\n",
      "\tThe Bed-Sitting Room\n",
      "\tBill & Ted's Bogus Journey\n",
      "\tThe Lost Continent\n",
      "\tMission: Impossible II\n",
      "\tStar Wars\n",
      "\tLight of Day\n",
      "\tNow and Forever\n",
      "\tTron\n",
      "\tThe Teacher\n",
      "\tDeath Line\n",
      "\tThe Magdalene Sisters\n",
      "\tThe Thirteenth Floor\n",
      "\tCarry On Screaming\n",
      "\tJinxed!\n",
      "\tThe Holy Modal Rounders: Bound to Lose\n",
      "\tCassandra's Dream\n",
      "\tShall We Dance?\n",
      "\tSouthland Tales\n",
      "\tForces of Nature\n",
      "\tStar Trek II: The Wrath of Khan\n",
      "\tA Brief History of Time\n",
      "\tGood Morning Miss Dove\n",
      "\tSon of Frankenstein\n",
      "\tSweet November\n",
      "\tJacob's Ladder\n",
      "\tThe First Wives Club\n",
      "\tRead It and Weep\n",
      "\tChristmas in Boston\n",
      "\tAway from Her\n",
      "\tGerry\n",
      "\tJudgment Night\n",
      "\tThe Bachelor\n",
      "\tTwin Peaks: Fire Walk with Me\n",
      "\tThe Crowd\n",
      "\tSwept from the Sea\n",
      "\tAnd Then There Were None\n",
      "\tMouseHunt\n",
      "\teXistenZ\n",
      "\tDollman vs. Demonic Toys\n",
      "\tHarry Potter and the Philosopher's Stone\n",
      "\tThe Yes Men\n",
      "\tFrankenstein Created Woman\n",
      "\t'Twas the Night Before Christmas\n",
      "\tGood Neighbor Sam\n",
      "\tBride of Frankenstein\n",
      "\tHomeless to Harvard: The Liz Murray Story\n",
      "\tDonnie Darko\n",
      "\tJohnny Mad Dog\n",
      "\tThe Harrad Experiment\n",
      "\tHairspray\n",
      "\tIn the Mouth of Madness\n",
      "\tParis is Burning\n",
      "\tThe Man Who Knew Too Much\n",
      "\tFailure to Launch\n",
      "\tThe Garden of Eden\n",
      "\tPerformance\n",
      "\tOpen Season\n",
      "\tDreamland\n",
      "\tK-19: The Widowmaker\n",
      "\tThe Pawnshop\n",
      "\tThis Is 40\n",
      "\tTMNT\n",
      "\tThe Hours\n",
      "\t42nd Street\n",
      "\tDread\n",
      "\tDon's Plum\n",
      "\tBeat\n",
      "\tHeart of the Country\n",
      "\tYoung Black Stallion\n",
      "\tLocal Color\n"
     ]
    }
   ],
   "source": [
    "print(get_recommendations('Toy Story',count_matrix))\n",
    "print_user_prediction(47, top_n, movies_metadata_df)"
   ]
  },
  {
   "cell_type": "code",
   "execution_count": null,
   "metadata": {},
   "outputs": [],
   "source": []
  },
  {
   "cell_type": "markdown",
   "metadata": {},
   "source": [
    "# Graph Filter"
   ]
  },
  {
   "cell_type": "code",
   "execution_count": 24,
   "metadata": {
    "collapsed": true,
    "jupyter": {
     "outputs_hidden": true
    }
   },
   "outputs": [
    {
     "name": "stdout",
     "output_type": "stream",
     "text": [
      "Requirement already satisfied: neo4j in /usr/local/lib/python3.7/site-packages (1.7.6)\n",
      "Requirement already satisfied: neobolt~=1.7.15 in /usr/local/lib/python3.7/site-packages (from neo4j) (1.7.16)\n",
      "Requirement already satisfied: neotime~=1.7.1 in /usr/local/lib/python3.7/site-packages (from neo4j) (1.7.4)\n",
      "Requirement already satisfied: six in /usr/local/lib/python3.7/site-packages (from neotime~=1.7.1->neo4j) (1.11.0)\n",
      "Requirement already satisfied: pytz in /usr/local/lib/python3.7/site-packages (from neotime~=1.7.1->neo4j) (2018.7)\n",
      "Note: you may need to restart the kernel to use updated packages.\n"
     ]
    }
   ],
   "source": [
    "pip install neo4j"
   ]
  },
  {
   "cell_type": "code",
   "execution_count": 25,
   "metadata": {
    "collapsed": true,
    "jupyter": {
     "outputs_hidden": true
    }
   },
   "outputs": [
    {
     "name": "stdout",
     "output_type": "stream",
     "text": [
      "Requirement already satisfied: neomodel in /usr/local/lib/python3.7/site-packages (3.3.2)\n",
      "Requirement already satisfied: pytz>=2016.10 in /usr/local/lib/python3.7/site-packages (from neomodel) (2018.7)\n",
      "Requirement already satisfied: neo4j-driver==1.7.2 in /usr/local/lib/python3.7/site-packages (from neomodel) (1.7.2)\n",
      "Requirement already satisfied: neotime<2,>=1.7.1 in /usr/local/lib/python3.7/site-packages (from neo4j-driver==1.7.2->neomodel) (1.7.4)\n",
      "Requirement already satisfied: neobolt<2,>=1.7.4 in /usr/local/lib/python3.7/site-packages (from neo4j-driver==1.7.2->neomodel) (1.7.16)\n",
      "Requirement already satisfied: six in /usr/local/lib/python3.7/site-packages (from neotime<2,>=1.7.1->neo4j-driver==1.7.2->neomodel) (1.11.0)\n",
      "Note: you may need to restart the kernel to use updated packages.\n"
     ]
    }
   ],
   "source": [
    "pip install neomodel"
   ]
  },
  {
   "cell_type": "code",
   "execution_count": 27,
   "metadata": {},
   "outputs": [],
   "source": [
    "from neo4j import GraphDatabase\n",
    "\n",
    "uri = \"bolt://localhost:11002\"\n",
    "driver = GraphDatabase.driver(uri, auth=('neo4j', 'ayush'))"
   ]
  },
  {
   "cell_type": "code",
   "execution_count": 31,
   "metadata": {},
   "outputs": [
    {
     "name": "stdout",
     "output_type": "stream",
     "text": [
      "<Record count(n)=10371>\n",
      "<neo4j.BoltStatementResult object at 0x1660dd310>\n"
     ]
    }
   ],
   "source": [
    "session = driver.session()\n",
    "query = \"MATCH (n) RETURN count(n)\"\n",
    "no_count = session.run(query)\n",
    "for i in no_count:\n",
    "    print(i)\n",
    "print(no_count)"
   ]
  },
  {
   "cell_type": "code",
   "execution_count": 32,
   "metadata": {},
   "outputs": [],
   "source": [
    "import json\n",
    "from datetime import datetime\n",
    "from pprint import pprint\n",
    "import codecs\n",
    "import os\n",
    "import json\n",
    "import logging\n",
    "import random\n",
    "from py2neo import Graph, Path, Node, Relationship, cypher"
   ]
  },
  {
   "cell_type": "code",
   "execution_count": 39,
   "metadata": {},
   "outputs": [],
   "source": [
    "#walk_limit defines the number of nodes it can hop\n",
    "walk_limit = 5 \n",
    "\n",
    "#All types of relationships possible, will be helpful in defining probabilities\n",
    "relationships = [\"FAVORITE\",\"GENRES\",\"SIMILAR\",\"WATCHED\"]"
   ]
  },
  {
   "cell_type": "code",
   "execution_count": 40,
   "metadata": {},
   "outputs": [],
   "source": [
    "def generateRandomPath():\n",
    "    #query to select a random node to start with\n",
    "    query = '''\n",
    "        START t=node(*) \n",
    "        MATCH (a)-[]->(t) \n",
    "        RETURN a\n",
    "        SKIP {n} LIMIT 1'''\n",
    "    \n",
    "    #get total number of nodes\n",
    "    node_count_query =  \"MATCH (n) RETURN count(n)\"\n",
    "    node_count = 10371\n",
    "    session = driver.session()\n",
    "    \n",
    "    #select a random node\n",
    "    #random_node = (session.run(query,{\"n\":random.randint(0,node_count - 1), \"m\":1}))\n",
    "    random_node = (session.run(query,{\"n\":862, \"m\":1}))\n",
    "\n",
    "    #print(type(random_node))\n",
    "    #x = random_node.single()[0]\n",
    "#     print(x)\n",
    "#     print(x.id)\n",
    "    #print(random_node.single()[0])\n",
    "    \n",
    "#     for i in random_node:\n",
    "#         print (i)\n",
    "    r_node =  random_node.single()[0]\n",
    "    return walk(r_node, 0) # start random walk and return the final node"
   ]
  },
  {
   "cell_type": "code",
   "execution_count": 41,
   "metadata": {},
   "outputs": [],
   "source": [
    "path = []"
   ]
  },
  {
   "cell_type": "code",
   "execution_count": 42,
   "metadata": {},
   "outputs": [],
   "source": [
    "def walk(start_node, current_length, prev_node=None, max_length = walk_limit):\n",
    "    #print(type(start_node.labels))\n",
    "    if (start_node.labels == {'Movies'}):\n",
    "        #print(start_node)\n",
    "        path.append(start_node)\n",
    "    else:\n",
    "        current_length-=1\n",
    "    #return if path length exceed limit\n",
    "    if (current_length >= max_length):\n",
    "        return {start_node:current_length}\n",
    "    \n",
    "    #query to get all incoming and outgoing paths from a node\n",
    "    query = \"\"\"match p=(n)-[]-() where id(n)={id} return p\"\"\"\n",
    "    session = driver.session()\n",
    "    rels = session.run(query,{\"id\":start_node.id})\n",
    "#     for i in rels:\n",
    "#         print(i)\n",
    "    #Convert the output to a list\n",
    "    relationships = rels.data()\n",
    "    #print(relationships)\n",
    "    size = len(relationships)\n",
    "    \n",
    "    #select a random node\n",
    "    node = random.randint(0,size-1)\n",
    "    next_node = relationships[node][\"p\"].end_node\n",
    "    #print(relationships[node][\"p\"].end_node)\n",
    "    current_node = relationships[node][\"p\"].start_node\n",
    "    \n",
    "    #If next random node is similar to previous node, choose another\n",
    "    if(next_node.id == current_node.id and size > 1):\n",
    "        node = random.randint(0,size-1)\n",
    "        next_node = relationships[node][\"p\"].end_node\n",
    "        current_node = relationships[node][\"p\"].start_node\n",
    "    #if previous node is the only possible path, terminate\n",
    "    elif(next_node.id == current_node.id and size == 1):\n",
    "        \n",
    "        return {current_node:current_length}\n",
    "        \n",
    "    return walk(next_node, current_length + 1, current_node)"
   ]
  },
  {
   "cell_type": "code",
   "execution_count": 43,
   "metadata": {},
   "outputs": [
    {
     "name": "stdout",
     "output_type": "stream",
     "text": [
      "{<Node id=728 labels={'Movies'} properties={'rating_mean': '3.5833333333333335', 'title': 'Flirting With Disaster (1996)', 'movieId': '125'}>: 5}\n",
      "<Node id=3385 labels={'Movies'} properties={'rating_mean': '4.0375', 'title': 'Road Warrior, The (Mad Max 2) (1981)', 'movieId': '3703'}>\n",
      "<Node id=2456 labels={'Movies'} properties={'rating_mean': '3.383720930232558', 'title': 'Fly, The (1986)', 'movieId': '2455'}>\n",
      "<Node id=1803 labels={'Movies'} properties={'rating_mean': '2.94', 'title': 'Event Horizon (1997)', 'movieId': '1590'}>\n",
      "<Node id=1815 labels={'Movies'} properties={'rating_mean': '2.4615384615384617', 'title': 'Mimic (1997)', 'movieId': '1603'}>\n",
      "<Node id=3480 labels={'Movies'} properties={'rating_mean': '2.2948717948717947', 'title': 'Hollow Man (2000)', 'movieId': '3826'}>\n",
      "<Node id=728 labels={'Movies'} properties={'rating_mean': '3.5833333333333335', 'title': 'Flirting With Disaster (1996)', 'movieId': '125'}>\n"
     ]
    }
   ],
   "source": [
    "print(generateRandomPath())\n",
    "#for i in range(5):\n",
    "    \n",
    "for i in path:\n",
    "    print(i)"
   ]
  },
  {
   "cell_type": "code",
   "execution_count": null,
   "metadata": {},
   "outputs": [],
   "source": []
  },
  {
   "cell_type": "code",
   "execution_count": null,
   "metadata": {},
   "outputs": [],
   "source": []
  },
  {
   "cell_type": "code",
   "execution_count": null,
   "metadata": {},
   "outputs": [],
   "source": []
  },
  {
   "cell_type": "code",
   "execution_count": null,
   "metadata": {},
   "outputs": [],
   "source": []
  },
  {
   "cell_type": "code",
   "execution_count": null,
   "metadata": {},
   "outputs": [],
   "source": []
  },
  {
   "cell_type": "markdown",
   "metadata": {},
   "source": [
    "# GRAPH CODE HERE"
   ]
  },
  {
   "cell_type": "code",
   "execution_count": 28,
   "metadata": {},
   "outputs": [
    {
     "ename": "IndexError",
     "evalue": "list index out of range",
     "output_type": "error",
     "traceback": [
      "\u001b[0;31m---------------------------------------------------------------------------\u001b[0m",
      "\u001b[0;31mIndexError\u001b[0m                                Traceback (most recent call last)",
      "\u001b[0;32m<ipython-input-28-e1cd8f77545e>\u001b[0m in \u001b[0;36m<module>\u001b[0;34m\u001b[0m\n\u001b[0;32m----> 1\u001b[0;31m \u001b[0mfirst_degree_away\u001b[0m\u001b[0;34m[\u001b[0m\u001b[0;36m1\u001b[0m\u001b[0;34m]\u001b[0m\u001b[0;34m\u001b[0m\u001b[0;34m\u001b[0m\u001b[0m\n\u001b[0m",
      "\u001b[0;31mIndexError\u001b[0m: list index out of range"
     ]
    }
   ],
   "source": [
    "def get_count_first_degree_films_of(tx, title):\n",
    "    for record in tx.run(\"MATCH (origin:MOVIE)-[:APPEARED_IN]-(actor)-[:APPEARED_IN]-(first_movie:MOVIE)\"\n",
    "                         \"WHERE origin.title = {title} \"\n",
    "                         \"RETURN count(*)\", title=title):\n",
    "        print(record[0])\n",
    "        \n",
    "def get_first_degree_films_of(tx, title):\n",
    "    nodes = []\n",
    "    \n",
    "    for record in tx.run(\"MATCH (origin:MOVIE)-[:APPEARED_IN]-(actor)-[:APPEARED_IN]-(first_movie:MOVIE)\"\n",
    "                         \"WHERE origin.title = {title} \"\n",
    "                         \"RETURN first_movie\", title=title):\n",
    "        \n",
    "        nodes.append(record.data())\n",
    "    \n",
    "    return nodes\n",
    "\n",
    "first_degree_away = None\n",
    "with driver.session() as session:\n",
    "    first_degree_away = session.read_transaction(get_first_degree_films_of, 'Superman')"
   ]
  },
  {
   "cell_type": "code",
   "execution_count": 16,
   "metadata": {},
   "outputs": [
    {
     "ename": "NameError",
     "evalue": "name 'namedtuple' is not defined",
     "output_type": "error",
     "traceback": [
      "\u001b[0;31m---------------------------------------------------------------------------\u001b[0m",
      "\u001b[0;31mNameError\u001b[0m                                 Traceback (most recent call last)",
      "\u001b[0;32m<ipython-input-16-ab4670e63e77>\u001b[0m in \u001b[0;36m<module>\u001b[0;34m\u001b[0m\n\u001b[0;32m----> 1\u001b[0;31m \u001b[0mGraphMember\u001b[0m \u001b[0;34m=\u001b[0m \u001b[0mnamedtuple\u001b[0m\u001b[0;34m(\u001b[0m\u001b[0;34m'GraphMember'\u001b[0m\u001b[0;34m,\u001b[0m \u001b[0;34m[\u001b[0m\u001b[0;34m'title'\u001b[0m\u001b[0;34m,\u001b[0m \u001b[0;34m'movie_id'\u001b[0m\u001b[0;34m]\u001b[0m\u001b[0;34m)\u001b[0m\u001b[0;34m\u001b[0m\u001b[0;34m\u001b[0m\u001b[0m\n\u001b[0m\u001b[1;32m      2\u001b[0m \u001b[0;34m\u001b[0m\u001b[0m\n\u001b[1;32m      3\u001b[0m \u001b[0;32mdef\u001b[0m \u001b[0mneo4j_results_to_tuples\u001b[0m\u001b[0;34m(\u001b[0m\u001b[0mresults\u001b[0m\u001b[0;34m)\u001b[0m\u001b[0;34m:\u001b[0m\u001b[0;34m\u001b[0m\u001b[0;34m\u001b[0m\u001b[0m\n\u001b[1;32m      4\u001b[0m     \u001b[0;32mreturn\u001b[0m \u001b[0;34m[\u001b[0m\u001b[0mGraphMember\u001b[0m\u001b[0;34m(\u001b[0m\u001b[0mnode\u001b[0m\u001b[0;34m[\u001b[0m\u001b[0;34m'first_movie'\u001b[0m\u001b[0;34m]\u001b[0m\u001b[0;34m.\u001b[0m\u001b[0mget\u001b[0m\u001b[0;34m(\u001b[0m\u001b[0;34m'title'\u001b[0m\u001b[0;34m)\u001b[0m\u001b[0;34m,\u001b[0m \u001b[0mnode\u001b[0m\u001b[0;34m[\u001b[0m\u001b[0;34m'first_movie'\u001b[0m\u001b[0;34m]\u001b[0m\u001b[0;34m.\u001b[0m\u001b[0mget\u001b[0m\u001b[0;34m(\u001b[0m\u001b[0;34m'movie_id'\u001b[0m\u001b[0;34m)\u001b[0m\u001b[0;34m)\u001b[0m \u001b[0;32mfor\u001b[0m \u001b[0mnode\u001b[0m \u001b[0;32min\u001b[0m \u001b[0mresults\u001b[0m\u001b[0;34m]\u001b[0m\u001b[0;34m\u001b[0m\u001b[0;34m\u001b[0m\u001b[0m\n",
      "\u001b[0;31mNameError\u001b[0m: name 'namedtuple' is not defined"
     ]
    }
   ],
   "source": [
    "GraphMember = namedtuple('GraphMember', ['title', 'movie_id'])\n",
    "\n",
    "def neo4j_results_to_tuples(results):\n",
    "    return [GraphMember(node['first_movie'].get('title'), node['first_movie'].get('movie_id')) for node in results]"
   ]
  },
  {
   "cell_type": "code",
   "execution_count": null,
   "metadata": {},
   "outputs": [],
   "source": [
    "neo4j_results_to_tuples(first_degree_away)"
   ]
  },
  {
   "cell_type": "code",
   "execution_count": null,
   "metadata": {},
   "outputs": [],
   "source": [
    "def get_first_degree_films_of(tx, title):\n",
    "    nodes = []\n",
    "\n",
    "    for record in tx.run(\"MATCH (origin:MOVIE)-[:APPEARED_IN]-(actor)-[:APPEARED_IN]-(first_movie:MOVIE)\"\n",
    "                         \"WHERE origin.title = {title} \"\n",
    "                         \"RETURN first_movie\", title=title):\n",
    "        nodes.append(record.data())\n",
    "\n",
    "    return nodes"
   ]
  },
  {
   "cell_type": "markdown",
   "metadata": {},
   "source": [
    "# Get First Degree Away Films of Sleepless in Seattle"
   ]
  },
  {
   "cell_type": "code",
   "execution_count": null,
   "metadata": {},
   "outputs": [],
   "source": [
    "first_degree_away = None\n",
    "with driver.session() as session:\n",
    "    first_degree_away = session.read_transaction(get_first_degree_films_of, 'Sleepless in Seattle')"
   ]
  },
  {
   "cell_type": "code",
   "execution_count": null,
   "metadata": {},
   "outputs": [],
   "source": []
  },
  {
   "cell_type": "code",
   "execution_count": null,
   "metadata": {},
   "outputs": [],
   "source": [
    "def neo4j_results_to_tuples(results):\n",
    "    return [GraphMember(node['first_movie'].get('title'), node['first_movie'].get('movie_id')) for node in results]"
   ]
  },
  {
   "cell_type": "code",
   "execution_count": null,
   "metadata": {},
   "outputs": [],
   "source": [
    "def get_connected_movies(list_favorite_movies, driver):\n",
    "    list_connected_movies = []\n",
    "\n",
    "    with driver.session() as session:\n",
    "        for movie in list_favorite_movies:\n",
    "            first_degree_away_films = session.read_transaction(get_first_degree_films_of, movie)\n",
    "            film_tups = neo4j_results_to_tuples(first_degree_away_films)\n",
    "            list_connected_movies.extend(film_tups)\n",
    "\n",
    "    return list_connected_movies"
   ]
  },
  {
   "cell_type": "markdown",
   "metadata": {},
   "source": [
    "## Run a test with a user"
   ]
  },
  {
   "cell_type": "code",
   "execution_count": null,
   "metadata": {},
   "outputs": [],
   "source": [
    "user_number = 321\n",
    "predictions_dict = predicted_movies_by_name\n",
    "get_graph_on = users_top_n_movies(10, user_number, predictions_dict, movies_metadata_df)"
   ]
  },
  {
   "cell_type": "code",
   "execution_count": null,
   "metadata": {},
   "outputs": [],
   "source": [
    "get_graph_on"
   ]
  },
  {
   "cell_type": "code",
   "execution_count": null,
   "metadata": {},
   "outputs": [],
   "source": []
  },
  {
   "cell_type": "code",
   "execution_count": null,
   "metadata": {},
   "outputs": [],
   "source": [
    "def get_top_three_favs(user_id):\n",
    "    \n",
    "    favorite_seen_movie_array = users_top_n_movies(200, user_id, predicted_movies_by_name, movies_metadata_df1)\n",
    "    sorted_seen_movies = sorted(favorite_seen_movie_array, key=lambda k: k[1], reverse=True)\n",
    "    return sorted_seen_movies[0:3]"
   ]
  },
  {
   "cell_type": "code",
   "execution_count": null,
   "metadata": {},
   "outputs": [],
   "source": [
    "get_top_three_favs(47)"
   ]
  },
  {
   "cell_type": "markdown",
   "metadata": {},
   "source": [
    "# Collab Filter List"
   ]
  },
  {
   "cell_type": "code",
   "execution_count": null,
   "metadata": {},
   "outputs": [],
   "source": [
    "collab_filtered_movies = sorted(collab_filter_recommendations(47, top_n, movies_metadata_df1), key=lambda k: k[1], reverse=True)\n",
    "collab_filtered_movies"
   ]
  },
  {
   "cell_type": "markdown",
   "metadata": {},
   "source": [
    "## Content Filtered"
   ]
  },
  {
   "cell_type": "code",
   "execution_count": null,
   "metadata": {},
   "outputs": [],
   "source": [
    "# #get_movie_id('The Endless Summer', movies_metadata_df1)\n",
    "# content_filtered_tups = top_n_closest_content_filtered(50, 321, content_filter_df)\n",
    "# content_filtered_tups"
   ]
  },
  {
   "cell_type": "code",
   "execution_count": null,
   "metadata": {},
   "outputs": [],
   "source": [
    "content_filtered_tups = get_recommendations('Sherlock Holmes',count_matrix)\n",
    "content_filtered_tups"
   ]
  },
  {
   "cell_type": "code",
   "execution_count": null,
   "metadata": {},
   "outputs": [],
   "source": [
    "favorite_list = get_top_three_favs(321)\n",
    "movie_names = [movie[0] for movie in favorite_list]"
   ]
  },
  {
   "cell_type": "code",
   "execution_count": null,
   "metadata": {},
   "outputs": [],
   "source": [
    "first_degree_away_films = get_connected_movies([mov[0] for mov in top_three], driver)"
   ]
  },
  {
   "cell_type": "code",
   "execution_count": null,
   "metadata": {},
   "outputs": [],
   "source": [
    "graph_id_content_filter = set({movie[1] for movie in first_degree_away})"
   ]
  },
  {
   "cell_type": "code",
   "execution_count": null,
   "metadata": {},
   "outputs": [],
   "source": [
    "graph_name_collab_filter = set({movie[0] for movie in first_degree_away})"
   ]
  },
  {
   "cell_type": "code",
   "execution_count": null,
   "metadata": {},
   "outputs": [],
   "source": [
    "content_id_set = set(movie[0] for movie in content_filtered_tups)"
   ]
  },
  {
   "cell_type": "code",
   "execution_count": null,
   "metadata": {},
   "outputs": [],
   "source": [
    "collab_movie_name_set = set(movie[0] for movie in collab_filtered_movies)"
   ]
  },
  {
   "cell_type": "code",
   "execution_count": null,
   "metadata": {},
   "outputs": [],
   "source": [
    "graph_name_collab_filter & collab_movie_name_set"
   ]
  },
  {
   "cell_type": "code",
   "execution_count": null,
   "metadata": {},
   "outputs": [],
   "source": [
    "content_id_set & graph_id_content_filter"
   ]
  },
  {
   "cell_type": "code",
   "execution_count": null,
   "metadata": {},
   "outputs": [],
   "source": [
    "get_movie_name(550, movies_metadata_df1)"
   ]
  }
 ],
 "metadata": {
  "kernelspec": {
   "display_name": "Python 3",
   "language": "python",
   "name": "python3"
  },
  "language_info": {
   "codemirror_mode": {
    "name": "ipython",
    "version": 3
   },
   "file_extension": ".py",
   "mimetype": "text/x-python",
   "name": "python",
   "nbconvert_exporter": "python",
   "pygments_lexer": "ipython3",
   "version": "3.5.2"
  }
 },
 "nbformat": 4,
 "nbformat_minor": 4
}
